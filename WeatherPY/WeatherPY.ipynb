{
 "cells": [
  {
   "cell_type": "markdown",
   "metadata": {},
   "source": [
    "# Weather Py Analysis/Observable Trends\n",
    "\n",
    "• Not surprisingly, temperature increases as one approaches the equator and vice versa (especially in the Northern Hemisphere with the \"Max Temp vs. Latitude\" R sq. correlation being -84.6%). However, the largest clusters of cities are at positive and negative 20 degrees latitude, not exactly at the equatorial line. \n",
    "• Cloudiness and humidity do not show a strong correlation to latitude. The visualizations below show a great variety of values at similar latitudes.\n",
    "• Latitude does not seem to play a factor in wind speeds. Wind speed appears to slightly increase as we move away from the equator, but overall are clustered this time of year at less than 10 mph. "
   ]
  },
  {
   "cell_type": "code",
   "execution_count": 29,
   "metadata": {},
   "outputs": [],
   "source": [
    " # Dependencies\n",
    "import csv\n",
    "import requests as req\n",
    "import matplotlib.pyplot as plt\n",
    "import pandas as pd \n",
    "import numpy as np\n",
    "from scipy import stats as sp\n",
    "import json\n",
    "import seaborn\n",
    "from citipy import citipy\n",
    "import time\n",
    "import random"
   ]
  },
  {
   "cell_type": "code",
   "execution_count": 30,
   "metadata": {},
   "outputs": [],
   "source": [
    "api_key = \"72288c380fa52e7f1ff3350997574175\"\n",
    "endpoint = \"http://api.openweathermap.org/data/2.5/weather\"\n",
    "units = \"Imperial\""
   ]
  },
  {
   "cell_type": "markdown",
   "metadata": {},
   "source": [
    "# Generate Cities List¶"
   ]
  },
  {
   "cell_type": "code",
   "execution_count": 31,
   "metadata": {},
   "outputs": [
    {
     "data": {
      "text/plain": [
       "dict"
      ]
     },
     "execution_count": 31,
     "metadata": {},
     "output_type": "execute_result"
    }
   ],
   "source": [
    "#Creates 2 lists of latitudes and longitutdes randomly\n",
    "#Zips into a single dictionary\n",
    "\n",
    "lats = []\n",
    "lngs = []\n",
    "for x in range(500):\n",
    "    lats.append(random.randrange(-90,90))\n",
    "    lngs.append(random.randrange(-180,180))\n",
    "locs = dict(zip(lats,lngs))\n",
    "#print(len(lats), len(lngs))\n",
    "type(locs)"
   ]
  },
  {
   "cell_type": "code",
   "execution_count": 32,
   "metadata": {},
   "outputs": [],
   "source": [
    "# Making an empty list to hold the randomly selected cities\n",
    "prelim_city_list = []\n",
    "\n",
    "# Generating 1000 unique cities using randomly generated coordinates\n",
    "while len(prelim_city_list) < 1000:\n",
    "    city = citipy.nearest_city(random.randrange(-90,90), random.randrange(-180,180)).city_name\n",
    "    \n",
    "    # Ensuring uniqueness in the city list\n",
    "    if city not in prelim_city_list:\n",
    "        prelim_city_list.append(city)"
   ]
  },
  {
   "cell_type": "code",
   "execution_count": 33,
   "metadata": {},
   "outputs": [
    {
     "name": "stdout",
     "output_type": "stream",
     "text": [
      "1000\n"
     ]
    }
   ],
   "source": [
    "# Checking number of cities\n",
    "n_cities = len(prelim_city_list)\n",
    "print(n_cities)"
   ]
  },
  {
   "cell_type": "code",
   "execution_count": 34,
   "metadata": {},
   "outputs": [
    {
     "data": {
      "text/html": [
       "<div>\n",
       "<style scoped>\n",
       "    .dataframe tbody tr th:only-of-type {\n",
       "        vertical-align: middle;\n",
       "    }\n",
       "\n",
       "    .dataframe tbody tr th {\n",
       "        vertical-align: top;\n",
       "    }\n",
       "\n",
       "    .dataframe thead th {\n",
       "        text-align: right;\n",
       "    }\n",
       "</style>\n",
       "<table border=\"1\" class=\"dataframe\">\n",
       "  <thead>\n",
       "    <tr style=\"text-align: right;\">\n",
       "      <th></th>\n",
       "      <th>Lat</th>\n",
       "      <th>Long</th>\n",
       "    </tr>\n",
       "  </thead>\n",
       "  <tbody>\n",
       "    <tr>\n",
       "      <th>0</th>\n",
       "      <td>-17</td>\n",
       "      <td>174</td>\n",
       "    </tr>\n",
       "    <tr>\n",
       "      <th>1</th>\n",
       "      <td>-39</td>\n",
       "      <td>-116</td>\n",
       "    </tr>\n",
       "    <tr>\n",
       "      <th>2</th>\n",
       "      <td>48</td>\n",
       "      <td>-89</td>\n",
       "    </tr>\n",
       "    <tr>\n",
       "      <th>3</th>\n",
       "      <td>73</td>\n",
       "      <td>99</td>\n",
       "    </tr>\n",
       "    <tr>\n",
       "      <th>4</th>\n",
       "      <td>84</td>\n",
       "      <td>104</td>\n",
       "    </tr>\n",
       "  </tbody>\n",
       "</table>\n",
       "</div>"
      ],
      "text/plain": [
       "   Lat  Long\n",
       "0  -17   174\n",
       "1  -39  -116\n",
       "2   48   -89\n",
       "3   73    99\n",
       "4   84   104"
      ]
     },
     "execution_count": 34,
     "metadata": {},
     "output_type": "execute_result"
    }
   ],
   "source": [
    "#Creates 2 lists of latitudes and longitutdes randomly\n",
    "#Zips into a single dictionary\n",
    "\n",
    "lat = np.random.choice(range(-90,90),2000)\n",
    "lng = np.random.choice(range(-180,180),2000)\n",
    "      \n",
    "locs = dict(zip(lats,lngs))\n",
    "#print(len(lats), len(lngs))\n",
    "type(locs)\n",
    "\n",
    "#Random selection of latitude and longitude \n",
    "\n",
    "lat_lng = pd.DataFrame({\"Lat\":lat,\"Long\":lng})        \n",
    "\n",
    "#print(len(lat_lng)\n",
    "lat_lng.head()"
   ]
  },
  {
   "cell_type": "code",
   "execution_count": 35,
   "metadata": {},
   "outputs": [
    {
     "data": {
      "text/plain": [
       "623"
      ]
     },
     "execution_count": 35,
     "metadata": {},
     "output_type": "execute_result"
    }
   ],
   "source": [
    "# List for holding lat_lngs and cities\n",
    "lat_lngs = []\n",
    "cities = []\n",
    "\n",
    "# Create a set of random lat and lng combinations\n",
    "lats = np.random.uniform(low=-90.000, high=90.000, size=1500)\n",
    "lngs = np.random.uniform(low=-180.000, high=180.000, size=1500)\n",
    "lat_lngs = zip(lats, lngs)\n",
    "\n",
    "# Identify nearest city for each lat, lng combination\n",
    "for lat_lng in lat_lngs:\n",
    "    city = citipy.nearest_city(lat_lng[0], lat_lng[1]).city_name\n",
    "    \n",
    "    # If the city is unique, then add it to a our cities list\n",
    "    if city not in cities:\n",
    "        cities.append(city)\n",
    "\n",
    "# Print the city count to confirm sufficient count\n",
    "len(cities)"
   ]
  },
  {
   "cell_type": "code",
   "execution_count": 16,
   "metadata": {},
   "outputs": [
    {
     "name": "stdout",
     "output_type": "stream",
     "text": [
      "Beginning Data Retrieval\n",
      "-----------------------------\n",
      "Processing record 0 of 168|cape town\n",
      "http://api.openweathermap.org/data/2.5/weather?units=Imperial&APPID=72288c380fa52e7f1ff3350997574175&q=cape town\n",
      "Processing record 1 of 168|rikitea\n",
      "http://api.openweathermap.org/data/2.5/weather?units=Imperial&APPID=72288c380fa52e7f1ff3350997574175&q=rikitea\n",
      "Processing record 2 of 168|saldanha\n",
      "http://api.openweathermap.org/data/2.5/weather?units=Imperial&APPID=72288c380fa52e7f1ff3350997574175&q=saldanha\n",
      "Processing record 3 of 168|jamestown\n",
      "http://api.openweathermap.org/data/2.5/weather?units=Imperial&APPID=72288c380fa52e7f1ff3350997574175&q=jamestown\n",
      "Processing record 4 of 168|pospelikha\n",
      "http://api.openweathermap.org/data/2.5/weather?units=Imperial&APPID=72288c380fa52e7f1ff3350997574175&q=pospelikha\n",
      "Processing record 5 of 168|baykit\n",
      "http://api.openweathermap.org/data/2.5/weather?units=Imperial&APPID=72288c380fa52e7f1ff3350997574175&q=baykit\n",
      "Processing record 6 of 168|nome\n",
      "http://api.openweathermap.org/data/2.5/weather?units=Imperial&APPID=72288c380fa52e7f1ff3350997574175&q=nome\n",
      "Processing record 7 of 168|attawapiskat\n",
      "http://api.openweathermap.org/data/2.5/weather?units=Imperial&APPID=72288c380fa52e7f1ff3350997574175&q=attawapiskat\n",
      "Processing record 8 of 168|busselton\n",
      "http://api.openweathermap.org/data/2.5/weather?units=Imperial&APPID=72288c380fa52e7f1ff3350997574175&q=busselton\n",
      "Processing record 9 of 168|vaini\n",
      "http://api.openweathermap.org/data/2.5/weather?units=Imperial&APPID=72288c380fa52e7f1ff3350997574175&q=vaini\n",
      "Processing record 10 of 168|illoqqortoormiut\n",
      "http://api.openweathermap.org/data/2.5/weather?units=Imperial&APPID=72288c380fa52e7f1ff3350997574175&q=illoqqortoormiut\n",
      "Processing record 11 of 168|tuktoyaktuk\n",
      "http://api.openweathermap.org/data/2.5/weather?units=Imperial&APPID=72288c380fa52e7f1ff3350997574175&q=tuktoyaktuk\n",
      "Processing record 12 of 168|port alfred\n",
      "http://api.openweathermap.org/data/2.5/weather?units=Imperial&APPID=72288c380fa52e7f1ff3350997574175&q=port alfred\n",
      "Processing record 13 of 168|salalah\n",
      "http://api.openweathermap.org/data/2.5/weather?units=Imperial&APPID=72288c380fa52e7f1ff3350997574175&q=salalah\n",
      "Processing record 14 of 168|kodiak\n",
      "http://api.openweathermap.org/data/2.5/weather?units=Imperial&APPID=72288c380fa52e7f1ff3350997574175&q=kodiak\n",
      "Processing record 15 of 168|te anau\n",
      "http://api.openweathermap.org/data/2.5/weather?units=Imperial&APPID=72288c380fa52e7f1ff3350997574175&q=te anau\n",
      "Processing record 16 of 168|lucea\n",
      "http://api.openweathermap.org/data/2.5/weather?units=Imperial&APPID=72288c380fa52e7f1ff3350997574175&q=lucea\n",
      "Processing record 17 of 168|saint-augustin\n",
      "http://api.openweathermap.org/data/2.5/weather?units=Imperial&APPID=72288c380fa52e7f1ff3350997574175&q=saint-augustin\n",
      "Processing record 18 of 168|peniche\n",
      "http://api.openweathermap.org/data/2.5/weather?units=Imperial&APPID=72288c380fa52e7f1ff3350997574175&q=peniche\n",
      "Processing record 19 of 168|tubruq\n",
      "http://api.openweathermap.org/data/2.5/weather?units=Imperial&APPID=72288c380fa52e7f1ff3350997574175&q=tubruq\n",
      "Processing record 20 of 168|amderma\n",
      "http://api.openweathermap.org/data/2.5/weather?units=Imperial&APPID=72288c380fa52e7f1ff3350997574175&q=amderma\n",
      "Processing record 21 of 168|biak\n",
      "http://api.openweathermap.org/data/2.5/weather?units=Imperial&APPID=72288c380fa52e7f1ff3350997574175&q=biak\n",
      "Processing record 22 of 168|la tuque\n",
      "http://api.openweathermap.org/data/2.5/weather?units=Imperial&APPID=72288c380fa52e7f1ff3350997574175&q=la tuque\n",
      "Processing record 23 of 168|coos bay\n",
      "http://api.openweathermap.org/data/2.5/weather?units=Imperial&APPID=72288c380fa52e7f1ff3350997574175&q=coos bay\n",
      "Processing record 24 of 168|klyuchi\n",
      "http://api.openweathermap.org/data/2.5/weather?units=Imperial&APPID=72288c380fa52e7f1ff3350997574175&q=klyuchi\n",
      "Processing record 25 of 168|busselton\n",
      "http://api.openweathermap.org/data/2.5/weather?units=Imperial&APPID=72288c380fa52e7f1ff3350997574175&q=busselton\n",
      "Processing record 26 of 168|atuona\n",
      "http://api.openweathermap.org/data/2.5/weather?units=Imperial&APPID=72288c380fa52e7f1ff3350997574175&q=atuona\n",
      "Processing record 27 of 168|rikitea\n",
      "http://api.openweathermap.org/data/2.5/weather?units=Imperial&APPID=72288c380fa52e7f1ff3350997574175&q=rikitea\n",
      "Processing record 28 of 168|saint-philippe\n",
      "http://api.openweathermap.org/data/2.5/weather?units=Imperial&APPID=72288c380fa52e7f1ff3350997574175&q=saint-philippe\n",
      "Processing record 29 of 168|saskylakh\n",
      "http://api.openweathermap.org/data/2.5/weather?units=Imperial&APPID=72288c380fa52e7f1ff3350997574175&q=saskylakh\n",
      "Processing record 30 of 168|klaksvik\n",
      "http://api.openweathermap.org/data/2.5/weather?units=Imperial&APPID=72288c380fa52e7f1ff3350997574175&q=klaksvik\n",
      "Processing record 31 of 168|ust-kuyga\n",
      "http://api.openweathermap.org/data/2.5/weather?units=Imperial&APPID=72288c380fa52e7f1ff3350997574175&q=ust-kuyga\n",
      "Processing record 32 of 168|srednekolymsk\n",
      "http://api.openweathermap.org/data/2.5/weather?units=Imperial&APPID=72288c380fa52e7f1ff3350997574175&q=srednekolymsk\n",
      "Processing record 33 of 168|tsihombe\n",
      "http://api.openweathermap.org/data/2.5/weather?units=Imperial&APPID=72288c380fa52e7f1ff3350997574175&q=tsihombe\n",
      "Processing record 34 of 168|taolanaro\n",
      "http://api.openweathermap.org/data/2.5/weather?units=Imperial&APPID=72288c380fa52e7f1ff3350997574175&q=taolanaro\n",
      "Processing record 35 of 168|bluff\n",
      "http://api.openweathermap.org/data/2.5/weather?units=Imperial&APPID=72288c380fa52e7f1ff3350997574175&q=bluff\n",
      "Processing record 36 of 168|punta arenas\n",
      "http://api.openweathermap.org/data/2.5/weather?units=Imperial&APPID=72288c380fa52e7f1ff3350997574175&q=punta arenas\n",
      "Processing record 37 of 168|airai\n",
      "http://api.openweathermap.org/data/2.5/weather?units=Imperial&APPID=72288c380fa52e7f1ff3350997574175&q=airai\n",
      "Processing record 38 of 168|hobart\n",
      "http://api.openweathermap.org/data/2.5/weather?units=Imperial&APPID=72288c380fa52e7f1ff3350997574175&q=hobart\n",
      "Processing record 39 of 168|nikolskoye\n",
      "http://api.openweathermap.org/data/2.5/weather?units=Imperial&APPID=72288c380fa52e7f1ff3350997574175&q=nikolskoye\n",
      "Processing record 40 of 168|sur\n",
      "http://api.openweathermap.org/data/2.5/weather?units=Imperial&APPID=72288c380fa52e7f1ff3350997574175&q=sur\n",
      "Processing record 41 of 168|georgetown\n",
      "http://api.openweathermap.org/data/2.5/weather?units=Imperial&APPID=72288c380fa52e7f1ff3350997574175&q=georgetown\n",
      "Processing record 42 of 168|thompson\n",
      "http://api.openweathermap.org/data/2.5/weather?units=Imperial&APPID=72288c380fa52e7f1ff3350997574175&q=thompson\n",
      "Processing record 43 of 168|ushuaia\n",
      "http://api.openweathermap.org/data/2.5/weather?units=Imperial&APPID=72288c380fa52e7f1ff3350997574175&q=ushuaia\n",
      "Processing record 44 of 168|sept-iles\n",
      "http://api.openweathermap.org/data/2.5/weather?units=Imperial&APPID=72288c380fa52e7f1ff3350997574175&q=sept-iles\n",
      "Processing record 45 of 168|rikitea\n",
      "http://api.openweathermap.org/data/2.5/weather?units=Imperial&APPID=72288c380fa52e7f1ff3350997574175&q=rikitea\n",
      "Processing record 46 of 168|constantine\n",
      "http://api.openweathermap.org/data/2.5/weather?units=Imperial&APPID=72288c380fa52e7f1ff3350997574175&q=constantine\n",
      "Processing record 47 of 168|ushuaia\n",
      "http://api.openweathermap.org/data/2.5/weather?units=Imperial&APPID=72288c380fa52e7f1ff3350997574175&q=ushuaia\n",
      "Processing record 48 of 168|pevek\n",
      "http://api.openweathermap.org/data/2.5/weather?units=Imperial&APPID=72288c380fa52e7f1ff3350997574175&q=pevek\n",
      "Processing record 49 of 168|busselton\n",
      "http://api.openweathermap.org/data/2.5/weather?units=Imperial&APPID=72288c380fa52e7f1ff3350997574175&q=busselton\n",
      "Processing record 50 of 168|jamestown\n",
      "http://api.openweathermap.org/data/2.5/weather?units=Imperial&APPID=72288c380fa52e7f1ff3350997574175&q=jamestown\n",
      "Processing record 51 of 168|vaini\n",
      "http://api.openweathermap.org/data/2.5/weather?units=Imperial&APPID=72288c380fa52e7f1ff3350997574175&q=vaini\n",
      "Processing record 52 of 168|manzhouli\n",
      "http://api.openweathermap.org/data/2.5/weather?units=Imperial&APPID=72288c380fa52e7f1ff3350997574175&q=manzhouli\n",
      "Processing record 53 of 168|new norfolk\n",
      "http://api.openweathermap.org/data/2.5/weather?units=Imperial&APPID=72288c380fa52e7f1ff3350997574175&q=new norfolk\n",
      "Processing record 54 of 168|belushya guba\n",
      "http://api.openweathermap.org/data/2.5/weather?units=Imperial&APPID=72288c380fa52e7f1ff3350997574175&q=belushya guba\n"
     ]
    },
    {
     "name": "stdout",
     "output_type": "stream",
     "text": [
      "Processing record 55 of 168|ushuaia\n",
      "http://api.openweathermap.org/data/2.5/weather?units=Imperial&APPID=72288c380fa52e7f1ff3350997574175&q=ushuaia\n",
      "Processing record 56 of 168|albany\n",
      "http://api.openweathermap.org/data/2.5/weather?units=Imperial&APPID=72288c380fa52e7f1ff3350997574175&q=albany\n",
      "Processing record 57 of 168|hasaki\n",
      "http://api.openweathermap.org/data/2.5/weather?units=Imperial&APPID=72288c380fa52e7f1ff3350997574175&q=hasaki\n",
      "Processing record 58 of 168|dikson\n",
      "http://api.openweathermap.org/data/2.5/weather?units=Imperial&APPID=72288c380fa52e7f1ff3350997574175&q=dikson\n",
      "Processing record 59 of 168|bluff\n",
      "http://api.openweathermap.org/data/2.5/weather?units=Imperial&APPID=72288c380fa52e7f1ff3350997574175&q=bluff\n",
      "Processing record 60 of 168|havoysund\n",
      "http://api.openweathermap.org/data/2.5/weather?units=Imperial&APPID=72288c380fa52e7f1ff3350997574175&q=havoysund\n",
      "Processing record 61 of 168|arraial do cabo\n",
      "http://api.openweathermap.org/data/2.5/weather?units=Imperial&APPID=72288c380fa52e7f1ff3350997574175&q=arraial do cabo\n",
      "Processing record 62 of 168|kruisfontein\n",
      "http://api.openweathermap.org/data/2.5/weather?units=Imperial&APPID=72288c380fa52e7f1ff3350997574175&q=kruisfontein\n",
      "Processing record 63 of 168|indija\n",
      "http://api.openweathermap.org/data/2.5/weather?units=Imperial&APPID=72288c380fa52e7f1ff3350997574175&q=indija\n",
      "Processing record 64 of 168|hamilton\n",
      "http://api.openweathermap.org/data/2.5/weather?units=Imperial&APPID=72288c380fa52e7f1ff3350997574175&q=hamilton\n",
      "Processing record 65 of 168|hobart\n",
      "http://api.openweathermap.org/data/2.5/weather?units=Imperial&APPID=72288c380fa52e7f1ff3350997574175&q=hobart\n",
      "Processing record 66 of 168|ushuaia\n",
      "http://api.openweathermap.org/data/2.5/weather?units=Imperial&APPID=72288c380fa52e7f1ff3350997574175&q=ushuaia\n",
      "Processing record 67 of 168|longyearbyen\n",
      "http://api.openweathermap.org/data/2.5/weather?units=Imperial&APPID=72288c380fa52e7f1ff3350997574175&q=longyearbyen\n",
      "Processing record 68 of 168|sasaram\n",
      "http://api.openweathermap.org/data/2.5/weather?units=Imperial&APPID=72288c380fa52e7f1ff3350997574175&q=sasaram\n",
      "Processing record 69 of 168|kapaa\n",
      "http://api.openweathermap.org/data/2.5/weather?units=Imperial&APPID=72288c380fa52e7f1ff3350997574175&q=kapaa\n",
      "Processing record 70 of 168|san felipe\n",
      "http://api.openweathermap.org/data/2.5/weather?units=Imperial&APPID=72288c380fa52e7f1ff3350997574175&q=san felipe\n",
      "Processing record 71 of 168|kapaa\n",
      "http://api.openweathermap.org/data/2.5/weather?units=Imperial&APPID=72288c380fa52e7f1ff3350997574175&q=kapaa\n",
      "Processing record 72 of 168|padang\n",
      "http://api.openweathermap.org/data/2.5/weather?units=Imperial&APPID=72288c380fa52e7f1ff3350997574175&q=padang\n",
      "Processing record 73 of 168|katsuura\n",
      "http://api.openweathermap.org/data/2.5/weather?units=Imperial&APPID=72288c380fa52e7f1ff3350997574175&q=katsuura\n",
      "Processing record 74 of 168|yumen\n",
      "http://api.openweathermap.org/data/2.5/weather?units=Imperial&APPID=72288c380fa52e7f1ff3350997574175&q=yumen\n",
      "Processing record 75 of 168|ivybridge\n",
      "http://api.openweathermap.org/data/2.5/weather?units=Imperial&APPID=72288c380fa52e7f1ff3350997574175&q=ivybridge\n",
      "Processing record 76 of 168|faanui\n",
      "http://api.openweathermap.org/data/2.5/weather?units=Imperial&APPID=72288c380fa52e7f1ff3350997574175&q=faanui\n",
      "Processing record 77 of 168|puerto ayora\n",
      "http://api.openweathermap.org/data/2.5/weather?units=Imperial&APPID=72288c380fa52e7f1ff3350997574175&q=puerto ayora\n",
      "Processing record 78 of 168|alofi\n",
      "http://api.openweathermap.org/data/2.5/weather?units=Imperial&APPID=72288c380fa52e7f1ff3350997574175&q=alofi\n",
      "Processing record 79 of 168|rikitea\n",
      "http://api.openweathermap.org/data/2.5/weather?units=Imperial&APPID=72288c380fa52e7f1ff3350997574175&q=rikitea\n",
      "Processing record 80 of 168|asau\n",
      "http://api.openweathermap.org/data/2.5/weather?units=Imperial&APPID=72288c380fa52e7f1ff3350997574175&q=asau\n",
      "Processing record 81 of 168|mar del plata\n",
      "http://api.openweathermap.org/data/2.5/weather?units=Imperial&APPID=72288c380fa52e7f1ff3350997574175&q=mar del plata\n",
      "Processing record 82 of 168|san patricio\n",
      "http://api.openweathermap.org/data/2.5/weather?units=Imperial&APPID=72288c380fa52e7f1ff3350997574175&q=san patricio\n",
      "Processing record 83 of 168|rikitea\n",
      "http://api.openweathermap.org/data/2.5/weather?units=Imperial&APPID=72288c380fa52e7f1ff3350997574175&q=rikitea\n",
      "Processing record 84 of 168|rikitea\n",
      "http://api.openweathermap.org/data/2.5/weather?units=Imperial&APPID=72288c380fa52e7f1ff3350997574175&q=rikitea\n",
      "Processing record 85 of 168|tuktoyaktuk\n",
      "http://api.openweathermap.org/data/2.5/weather?units=Imperial&APPID=72288c380fa52e7f1ff3350997574175&q=tuktoyaktuk\n",
      "Processing record 86 of 168|bredasdorp\n",
      "http://api.openweathermap.org/data/2.5/weather?units=Imperial&APPID=72288c380fa52e7f1ff3350997574175&q=bredasdorp\n",
      "Processing record 87 of 168|vitim\n",
      "http://api.openweathermap.org/data/2.5/weather?units=Imperial&APPID=72288c380fa52e7f1ff3350997574175&q=vitim\n",
      "Processing record 88 of 168|lagoa\n",
      "http://api.openweathermap.org/data/2.5/weather?units=Imperial&APPID=72288c380fa52e7f1ff3350997574175&q=lagoa\n",
      "Processing record 89 of 168|pangnirtung\n",
      "http://api.openweathermap.org/data/2.5/weather?units=Imperial&APPID=72288c380fa52e7f1ff3350997574175&q=pangnirtung\n",
      "Processing record 90 of 168|puerto ayora\n",
      "http://api.openweathermap.org/data/2.5/weather?units=Imperial&APPID=72288c380fa52e7f1ff3350997574175&q=puerto ayora\n",
      "Processing record 91 of 168|rikitea\n",
      "http://api.openweathermap.org/data/2.5/weather?units=Imperial&APPID=72288c380fa52e7f1ff3350997574175&q=rikitea\n",
      "Processing record 92 of 168|castro\n",
      "http://api.openweathermap.org/data/2.5/weather?units=Imperial&APPID=72288c380fa52e7f1ff3350997574175&q=castro\n",
      "Processing record 93 of 168|bafq\n",
      "http://api.openweathermap.org/data/2.5/weather?units=Imperial&APPID=72288c380fa52e7f1ff3350997574175&q=bafq\n",
      "Processing record 94 of 168|khatanga\n",
      "http://api.openweathermap.org/data/2.5/weather?units=Imperial&APPID=72288c380fa52e7f1ff3350997574175&q=khatanga\n",
      "Processing record 95 of 168|menongue\n",
      "http://api.openweathermap.org/data/2.5/weather?units=Imperial&APPID=72288c380fa52e7f1ff3350997574175&q=menongue\n",
      "Processing record 96 of 168|viedma\n",
      "http://api.openweathermap.org/data/2.5/weather?units=Imperial&APPID=72288c380fa52e7f1ff3350997574175&q=viedma\n",
      "Processing record 97 of 168|tuktoyaktuk\n",
      "http://api.openweathermap.org/data/2.5/weather?units=Imperial&APPID=72288c380fa52e7f1ff3350997574175&q=tuktoyaktuk\n",
      "Processing record 98 of 168|ust-maya\n",
      "http://api.openweathermap.org/data/2.5/weather?units=Imperial&APPID=72288c380fa52e7f1ff3350997574175&q=ust-maya\n",
      "Processing record 99 of 168|ushuaia\n",
      "http://api.openweathermap.org/data/2.5/weather?units=Imperial&APPID=72288c380fa52e7f1ff3350997574175&q=ushuaia\n",
      "Processing record 100 of 168|fortuna\n",
      "http://api.openweathermap.org/data/2.5/weather?units=Imperial&APPID=72288c380fa52e7f1ff3350997574175&q=fortuna\n",
      "Processing record 101 of 168|port elizabeth\n",
      "http://api.openweathermap.org/data/2.5/weather?units=Imperial&APPID=72288c380fa52e7f1ff3350997574175&q=port elizabeth\n",
      "Processing record 102 of 168|sitka\n",
      "http://api.openweathermap.org/data/2.5/weather?units=Imperial&APPID=72288c380fa52e7f1ff3350997574175&q=sitka\n",
      "Processing record 103 of 168|saleaula\n",
      "http://api.openweathermap.org/data/2.5/weather?units=Imperial&APPID=72288c380fa52e7f1ff3350997574175&q=saleaula\n",
      "Processing record 104 of 168|carnarvon\n",
      "http://api.openweathermap.org/data/2.5/weather?units=Imperial&APPID=72288c380fa52e7f1ff3350997574175&q=carnarvon\n",
      "Processing record 105 of 168|rikitea\n",
      "http://api.openweathermap.org/data/2.5/weather?units=Imperial&APPID=72288c380fa52e7f1ff3350997574175&q=rikitea\n",
      "Processing record 106 of 168|walvis bay\n",
      "http://api.openweathermap.org/data/2.5/weather?units=Imperial&APPID=72288c380fa52e7f1ff3350997574175&q=walvis bay\n",
      "Processing record 107 of 168|los llanos de aridane\n",
      "http://api.openweathermap.org/data/2.5/weather?units=Imperial&APPID=72288c380fa52e7f1ff3350997574175&q=los llanos de aridane\n",
      "Processing record 108 of 168|carnarvon\n",
      "http://api.openweathermap.org/data/2.5/weather?units=Imperial&APPID=72288c380fa52e7f1ff3350997574175&q=carnarvon\n",
      "Processing record 109 of 168|bluff\n",
      "http://api.openweathermap.org/data/2.5/weather?units=Imperial&APPID=72288c380fa52e7f1ff3350997574175&q=bluff\n"
     ]
    },
    {
     "name": "stdout",
     "output_type": "stream",
     "text": [
      "Processing record 110 of 168|albany\n",
      "http://api.openweathermap.org/data/2.5/weather?units=Imperial&APPID=72288c380fa52e7f1ff3350997574175&q=albany\n",
      "Processing record 111 of 168|itarema\n",
      "http://api.openweathermap.org/data/2.5/weather?units=Imperial&APPID=72288c380fa52e7f1ff3350997574175&q=itarema\n",
      "Processing record 112 of 168|cidreira\n",
      "http://api.openweathermap.org/data/2.5/weather?units=Imperial&APPID=72288c380fa52e7f1ff3350997574175&q=cidreira\n",
      "Processing record 113 of 168|rikitea\n",
      "http://api.openweathermap.org/data/2.5/weather?units=Imperial&APPID=72288c380fa52e7f1ff3350997574175&q=rikitea\n",
      "Processing record 114 of 168|puri\n",
      "http://api.openweathermap.org/data/2.5/weather?units=Imperial&APPID=72288c380fa52e7f1ff3350997574175&q=puri\n",
      "Processing record 115 of 168|blytheville\n",
      "http://api.openweathermap.org/data/2.5/weather?units=Imperial&APPID=72288c380fa52e7f1ff3350997574175&q=blytheville\n",
      "Processing record 116 of 168|atuona\n",
      "http://api.openweathermap.org/data/2.5/weather?units=Imperial&APPID=72288c380fa52e7f1ff3350997574175&q=atuona\n",
      "Processing record 117 of 168|pochutla\n",
      "http://api.openweathermap.org/data/2.5/weather?units=Imperial&APPID=72288c380fa52e7f1ff3350997574175&q=pochutla\n",
      "Processing record 118 of 168|grand-lahou\n",
      "http://api.openweathermap.org/data/2.5/weather?units=Imperial&APPID=72288c380fa52e7f1ff3350997574175&q=grand-lahou\n",
      "Processing record 119 of 168|rikitea\n",
      "http://api.openweathermap.org/data/2.5/weather?units=Imperial&APPID=72288c380fa52e7f1ff3350997574175&q=rikitea\n",
      "Processing record 120 of 168|kango\n",
      "http://api.openweathermap.org/data/2.5/weather?units=Imperial&APPID=72288c380fa52e7f1ff3350997574175&q=kango\n",
      "Processing record 121 of 168|qaqortoq\n",
      "http://api.openweathermap.org/data/2.5/weather?units=Imperial&APPID=72288c380fa52e7f1ff3350997574175&q=qaqortoq\n",
      "Processing record 122 of 168|illoqqortoormiut\n",
      "http://api.openweathermap.org/data/2.5/weather?units=Imperial&APPID=72288c380fa52e7f1ff3350997574175&q=illoqqortoormiut\n",
      "Processing record 123 of 168|bredasdorp\n",
      "http://api.openweathermap.org/data/2.5/weather?units=Imperial&APPID=72288c380fa52e7f1ff3350997574175&q=bredasdorp\n",
      "Processing record 124 of 168|batemans bay\n",
      "http://api.openweathermap.org/data/2.5/weather?units=Imperial&APPID=72288c380fa52e7f1ff3350997574175&q=batemans bay\n",
      "Processing record 125 of 168|castro\n",
      "http://api.openweathermap.org/data/2.5/weather?units=Imperial&APPID=72288c380fa52e7f1ff3350997574175&q=castro\n",
      "Processing record 126 of 168|mataura\n",
      "http://api.openweathermap.org/data/2.5/weather?units=Imperial&APPID=72288c380fa52e7f1ff3350997574175&q=mataura\n",
      "Processing record 127 of 168|taolanaro\n",
      "http://api.openweathermap.org/data/2.5/weather?units=Imperial&APPID=72288c380fa52e7f1ff3350997574175&q=taolanaro\n",
      "Processing record 128 of 168|touros\n",
      "http://api.openweathermap.org/data/2.5/weather?units=Imperial&APPID=72288c380fa52e7f1ff3350997574175&q=touros\n",
      "Processing record 129 of 168|bredasdorp\n",
      "http://api.openweathermap.org/data/2.5/weather?units=Imperial&APPID=72288c380fa52e7f1ff3350997574175&q=bredasdorp\n",
      "Processing record 130 of 168|dukat\n",
      "http://api.openweathermap.org/data/2.5/weather?units=Imperial&APPID=72288c380fa52e7f1ff3350997574175&q=dukat\n",
      "Processing record 131 of 168|salvador\n",
      "http://api.openweathermap.org/data/2.5/weather?units=Imperial&APPID=72288c380fa52e7f1ff3350997574175&q=salvador\n",
      "Processing record 132 of 168|ponta do sol\n",
      "http://api.openweathermap.org/data/2.5/weather?units=Imperial&APPID=72288c380fa52e7f1ff3350997574175&q=ponta do sol\n",
      "Processing record 133 of 168|braco do norte\n",
      "http://api.openweathermap.org/data/2.5/weather?units=Imperial&APPID=72288c380fa52e7f1ff3350997574175&q=braco do norte\n",
      "Processing record 134 of 168|el cobre\n",
      "http://api.openweathermap.org/data/2.5/weather?units=Imperial&APPID=72288c380fa52e7f1ff3350997574175&q=el cobre\n",
      "Processing record 135 of 168|cabo san lucas\n",
      "http://api.openweathermap.org/data/2.5/weather?units=Imperial&APPID=72288c380fa52e7f1ff3350997574175&q=cabo san lucas\n",
      "Processing record 136 of 168|puerto ayora\n",
      "http://api.openweathermap.org/data/2.5/weather?units=Imperial&APPID=72288c380fa52e7f1ff3350997574175&q=puerto ayora\n",
      "Processing record 137 of 168|lima\n",
      "http://api.openweathermap.org/data/2.5/weather?units=Imperial&APPID=72288c380fa52e7f1ff3350997574175&q=lima\n",
      "Processing record 138 of 168|kapaa\n",
      "http://api.openweathermap.org/data/2.5/weather?units=Imperial&APPID=72288c380fa52e7f1ff3350997574175&q=kapaa\n",
      "Processing record 139 of 168|mgandu\n",
      "http://api.openweathermap.org/data/2.5/weather?units=Imperial&APPID=72288c380fa52e7f1ff3350997574175&q=mgandu\n",
      "Processing record 140 of 168|georgetown\n",
      "http://api.openweathermap.org/data/2.5/weather?units=Imperial&APPID=72288c380fa52e7f1ff3350997574175&q=georgetown\n",
      "Processing record 141 of 168|aksu\n",
      "http://api.openweathermap.org/data/2.5/weather?units=Imperial&APPID=72288c380fa52e7f1ff3350997574175&q=aksu\n",
      "Processing record 142 of 168|upernavik\n",
      "http://api.openweathermap.org/data/2.5/weather?units=Imperial&APPID=72288c380fa52e7f1ff3350997574175&q=upernavik\n",
      "Processing record 143 of 168|punta arenas\n",
      "http://api.openweathermap.org/data/2.5/weather?units=Imperial&APPID=72288c380fa52e7f1ff3350997574175&q=punta arenas\n",
      "Processing record 144 of 168|can tho\n",
      "http://api.openweathermap.org/data/2.5/weather?units=Imperial&APPID=72288c380fa52e7f1ff3350997574175&q=can tho\n",
      "Processing record 145 of 168|qaanaaq\n",
      "http://api.openweathermap.org/data/2.5/weather?units=Imperial&APPID=72288c380fa52e7f1ff3350997574175&q=qaanaaq\n",
      "Processing record 146 of 168|klaksvik\n",
      "http://api.openweathermap.org/data/2.5/weather?units=Imperial&APPID=72288c380fa52e7f1ff3350997574175&q=klaksvik\n",
      "Processing record 147 of 168|kruisfontein\n",
      "http://api.openweathermap.org/data/2.5/weather?units=Imperial&APPID=72288c380fa52e7f1ff3350997574175&q=kruisfontein\n",
      "Processing record 148 of 168|pevek\n",
      "http://api.openweathermap.org/data/2.5/weather?units=Imperial&APPID=72288c380fa52e7f1ff3350997574175&q=pevek\n",
      "Processing record 149 of 168|amot\n",
      "http://api.openweathermap.org/data/2.5/weather?units=Imperial&APPID=72288c380fa52e7f1ff3350997574175&q=amot\n",
      "Processing record 150 of 168|mys shmidta\n",
      "http://api.openweathermap.org/data/2.5/weather?units=Imperial&APPID=72288c380fa52e7f1ff3350997574175&q=mys shmidta\n",
      "Processing record 151 of 168|saint anthony\n",
      "http://api.openweathermap.org/data/2.5/weather?units=Imperial&APPID=72288c380fa52e7f1ff3350997574175&q=saint anthony\n",
      "Processing record 152 of 168|hobart\n",
      "http://api.openweathermap.org/data/2.5/weather?units=Imperial&APPID=72288c380fa52e7f1ff3350997574175&q=hobart\n",
      "Processing record 153 of 168|kapaa\n",
      "http://api.openweathermap.org/data/2.5/weather?units=Imperial&APPID=72288c380fa52e7f1ff3350997574175&q=kapaa\n",
      "Processing record 154 of 168|tezu\n",
      "http://api.openweathermap.org/data/2.5/weather?units=Imperial&APPID=72288c380fa52e7f1ff3350997574175&q=tezu\n",
      "Processing record 155 of 168|mataura\n",
      "http://api.openweathermap.org/data/2.5/weather?units=Imperial&APPID=72288c380fa52e7f1ff3350997574175&q=mataura\n",
      "Processing record 156 of 168|punta arenas\n",
      "http://api.openweathermap.org/data/2.5/weather?units=Imperial&APPID=72288c380fa52e7f1ff3350997574175&q=punta arenas\n",
      "Processing record 157 of 168|ushuaia\n",
      "http://api.openweathermap.org/data/2.5/weather?units=Imperial&APPID=72288c380fa52e7f1ff3350997574175&q=ushuaia\n",
      "Processing record 158 of 168|taolanaro\n",
      "http://api.openweathermap.org/data/2.5/weather?units=Imperial&APPID=72288c380fa52e7f1ff3350997574175&q=taolanaro\n",
      "Processing record 159 of 168|hermanus\n",
      "http://api.openweathermap.org/data/2.5/weather?units=Imperial&APPID=72288c380fa52e7f1ff3350997574175&q=hermanus\n",
      "Processing record 160 of 168|butaritari\n",
      "http://api.openweathermap.org/data/2.5/weather?units=Imperial&APPID=72288c380fa52e7f1ff3350997574175&q=butaritari\n",
      "Processing record 161 of 168|sentyabrskiy\n",
      "http://api.openweathermap.org/data/2.5/weather?units=Imperial&APPID=72288c380fa52e7f1ff3350997574175&q=sentyabrskiy\n",
      "Processing record 162 of 168|meulaboh\n",
      "http://api.openweathermap.org/data/2.5/weather?units=Imperial&APPID=72288c380fa52e7f1ff3350997574175&q=meulaboh\n",
      "Processing record 163 of 168|juba\n",
      "http://api.openweathermap.org/data/2.5/weather?units=Imperial&APPID=72288c380fa52e7f1ff3350997574175&q=juba\n",
      "Processing record 164 of 168|meyungs\n",
      "http://api.openweathermap.org/data/2.5/weather?units=Imperial&APPID=72288c380fa52e7f1ff3350997574175&q=meyungs\n"
     ]
    },
    {
     "name": "stdout",
     "output_type": "stream",
     "text": [
      "Processing record 165 of 168|punta arenas\n",
      "http://api.openweathermap.org/data/2.5/weather?units=Imperial&APPID=72288c380fa52e7f1ff3350997574175&q=punta arenas\n",
      "Processing record 166 of 168|kalyazin\n",
      "http://api.openweathermap.org/data/2.5/weather?units=Imperial&APPID=72288c380fa52e7f1ff3350997574175&q=kalyazin\n",
      "Processing record 167 of 168|cape town\n",
      "http://api.openweathermap.org/data/2.5/weather?units=Imperial&APPID=72288c380fa52e7f1ff3350997574175&q=cape town\n",
      "Data Retrieval Complete\n"
     ]
    }
   ],
   "source": [
    "#Uses Citipy to identify the nearest city with country code\n",
    "\n",
    "locs_conv = []\n",
    "weatherdata_df = pd.DataFrame(columns = ['City','Temp','Humidity','Clouds','Wind_Speed'])\n",
    "response_data = []\n",
    "\n",
    "for key,value in locs.items():\n",
    "    city = citipy.nearest_city(key,value)\n",
    "    locs_conv.append(city)\n",
    "\n",
    "#locs_conv\n",
    "city_counter = 0\n",
    "print('Beginning Data Retrieval')\n",
    "print('-----------------------------')\n",
    "for location in locs_conv:\n",
    "    print('Processing record '+str(city_counter)+' of '+ str(len(locs_conv))+\"|\"+location.city_name)\n",
    "    city_counter +=1\n",
    "    \n",
    "    try:\n",
    "        params = {\n",
    "            'appid': api_key,\n",
    "            'units': units,\n",
    "            'q': location.city_name+\",\"+location.country_code\n",
    "        }\n",
    "                     \n",
    "        #print('Getting Data for #'+str(city_counter))\n",
    "        \n",
    "        response = req.get(endpoint, params=params).json()\n",
    "        response_data.append(response)\n",
    "        target_url = \"http://api.openweathermap.org/data/2.5/weather?units=%s&APPID=%s&q=%s\" % (params['units'],api_key,location.city_name.strip())\n",
    "        \n",
    "        \n",
    "    except:\n",
    "        continue\n",
    "    \n",
    "    print(target_url)\n",
    "    time.sleep(1)\n",
    "\n",
    "    \n",
    "#creates a dataframe to store the responses and then save it to a csv    \n",
    "response_df = pd.DataFrame(response_data)\n",
    "response_df.to_csv('saved_data.csv')  \n",
    "\n",
    "\n",
    "\n",
    "print('Data Retrieval Complete')        "
   ]
  },
  {
   "cell_type": "code",
   "execution_count": 17,
   "metadata": {},
   "outputs": [
    {
     "data": {
      "text/html": [
       "<div>\n",
       "<style scoped>\n",
       "    .dataframe tbody tr th:only-of-type {\n",
       "        vertical-align: middle;\n",
       "    }\n",
       "\n",
       "    .dataframe tbody tr th {\n",
       "        vertical-align: top;\n",
       "    }\n",
       "\n",
       "    .dataframe thead th {\n",
       "        text-align: right;\n",
       "    }\n",
       "</style>\n",
       "<table border=\"1\" class=\"dataframe\">\n",
       "  <thead>\n",
       "    <tr style=\"text-align: right;\">\n",
       "      <th></th>\n",
       "      <th>coord</th>\n",
       "      <th>weather</th>\n",
       "      <th>base</th>\n",
       "      <th>main</th>\n",
       "      <th>visibility</th>\n",
       "      <th>wind</th>\n",
       "      <th>clouds</th>\n",
       "      <th>dt</th>\n",
       "      <th>sys</th>\n",
       "      <th>timezone</th>\n",
       "      <th>id</th>\n",
       "      <th>name</th>\n",
       "      <th>cod</th>\n",
       "      <th>rain</th>\n",
       "      <th>message</th>\n",
       "    </tr>\n",
       "  </thead>\n",
       "  <tbody>\n",
       "    <tr>\n",
       "      <th>0</th>\n",
       "      <td>{'lon': 18.42, 'lat': -33.93}</td>\n",
       "      <td>[{'id': 801, 'main': 'Clouds', 'description': ...</td>\n",
       "      <td>stations</td>\n",
       "      <td>{'temp': 58.75, 'feels_like': 56.34, 'temp_min...</td>\n",
       "      <td>10000.0</td>\n",
       "      <td>{'speed': 8.05, 'deg': 330}</td>\n",
       "      <td>{'all': 20}</td>\n",
       "      <td>1.603770e+09</td>\n",
       "      <td>{'type': 1, 'id': 1899, 'country': 'ZA', 'sunr...</td>\n",
       "      <td>7200.0</td>\n",
       "      <td>3369157.0</td>\n",
       "      <td>Cape Town</td>\n",
       "      <td>200</td>\n",
       "      <td>NaN</td>\n",
       "      <td>NaN</td>\n",
       "    </tr>\n",
       "    <tr>\n",
       "      <th>1</th>\n",
       "      <td>{'lon': -134.97, 'lat': -23.12}</td>\n",
       "      <td>[{'id': 500, 'main': 'Rain', 'description': 'l...</td>\n",
       "      <td>stations</td>\n",
       "      <td>{'temp': 75.54, 'feels_like': 75.22, 'temp_min...</td>\n",
       "      <td>10000.0</td>\n",
       "      <td>{'speed': 15.08, 'deg': 352}</td>\n",
       "      <td>{'all': 100}</td>\n",
       "      <td>1.603771e+09</td>\n",
       "      <td>{'country': 'PF', 'sunrise': 1603721868, 'suns...</td>\n",
       "      <td>-32400.0</td>\n",
       "      <td>4030556.0</td>\n",
       "      <td>Rikitea</td>\n",
       "      <td>200</td>\n",
       "      <td>{'1h': 0.18}</td>\n",
       "      <td>NaN</td>\n",
       "    </tr>\n",
       "    <tr>\n",
       "      <th>2</th>\n",
       "      <td>{'lon': 17.94, 'lat': -33.01}</td>\n",
       "      <td>[{'id': 802, 'main': 'Clouds', 'description': ...</td>\n",
       "      <td>stations</td>\n",
       "      <td>{'temp': 59, 'feels_like': 56.7, 'temp_min': 5...</td>\n",
       "      <td>9975.0</td>\n",
       "      <td>{'speed': 6.93, 'deg': 350}</td>\n",
       "      <td>{'all': 29}</td>\n",
       "      <td>1.603771e+09</td>\n",
       "      <td>{'type': 1, 'id': 1943, 'country': 'ZA', 'sunr...</td>\n",
       "      <td>7200.0</td>\n",
       "      <td>3361934.0</td>\n",
       "      <td>Saldanha</td>\n",
       "      <td>200</td>\n",
       "      <td>NaN</td>\n",
       "      <td>NaN</td>\n",
       "    </tr>\n",
       "    <tr>\n",
       "      <th>3</th>\n",
       "      <td>{'lon': -5.72, 'lat': -15.94}</td>\n",
       "      <td>[{'id': 804, 'main': 'Clouds', 'description': ...</td>\n",
       "      <td>stations</td>\n",
       "      <td>{'temp': 61.03, 'feels_like': 54.09, 'temp_min...</td>\n",
       "      <td>10000.0</td>\n",
       "      <td>{'speed': 18.25, 'deg': 127}</td>\n",
       "      <td>{'all': 97}</td>\n",
       "      <td>1.603771e+09</td>\n",
       "      <td>{'country': 'SH', 'sunrise': 1603777680, 'suns...</td>\n",
       "      <td>0.0</td>\n",
       "      <td>3370903.0</td>\n",
       "      <td>Jamestown</td>\n",
       "      <td>200</td>\n",
       "      <td>NaN</td>\n",
       "      <td>NaN</td>\n",
       "    </tr>\n",
       "    <tr>\n",
       "      <th>4</th>\n",
       "      <td>{'lon': 81.77, 'lat': 51.95}</td>\n",
       "      <td>[{'id': 803, 'main': 'Clouds', 'description': ...</td>\n",
       "      <td>stations</td>\n",
       "      <td>{'temp': 50.34, 'feels_like': 31.46, 'temp_min...</td>\n",
       "      <td>10000.0</td>\n",
       "      <td>{'speed': 26.51, 'deg': 196}</td>\n",
       "      <td>{'all': 76}</td>\n",
       "      <td>1.603771e+09</td>\n",
       "      <td>{'country': 'RU', 'sunrise': 1603761523, 'suns...</td>\n",
       "      <td>25200.0</td>\n",
       "      <td>1494331.0</td>\n",
       "      <td>Pospelikha</td>\n",
       "      <td>200</td>\n",
       "      <td>NaN</td>\n",
       "      <td>NaN</td>\n",
       "    </tr>\n",
       "    <tr>\n",
       "      <th>...</th>\n",
       "      <td>...</td>\n",
       "      <td>...</td>\n",
       "      <td>...</td>\n",
       "      <td>...</td>\n",
       "      <td>...</td>\n",
       "      <td>...</td>\n",
       "      <td>...</td>\n",
       "      <td>...</td>\n",
       "      <td>...</td>\n",
       "      <td>...</td>\n",
       "      <td>...</td>\n",
       "      <td>...</td>\n",
       "      <td>...</td>\n",
       "      <td>...</td>\n",
       "      <td>...</td>\n",
       "    </tr>\n",
       "    <tr>\n",
       "      <th>160</th>\n",
       "      <td>{'lon': 172.79, 'lat': 3.07}</td>\n",
       "      <td>[{'id': 800, 'main': 'Clear', 'description': '...</td>\n",
       "      <td>stations</td>\n",
       "      <td>{'temp': 81.7, 'feels_like': 84.18, 'temp_min'...</td>\n",
       "      <td>10000.0</td>\n",
       "      <td>{'speed': 8.05, 'deg': 120}</td>\n",
       "      <td>{'all': 6}</td>\n",
       "      <td>1.603771e+09</td>\n",
       "      <td>{'country': 'KI', 'sunrise': 1603735919, 'suns...</td>\n",
       "      <td>43200.0</td>\n",
       "      <td>2110227.0</td>\n",
       "      <td>Butaritari</td>\n",
       "      <td>200</td>\n",
       "      <td>NaN</td>\n",
       "      <td>NaN</td>\n",
       "    </tr>\n",
       "    <tr>\n",
       "      <th>162</th>\n",
       "      <td>{'lon': 96.13, 'lat': 4.14}</td>\n",
       "      <td>[{'id': 803, 'main': 'Clouds', 'description': ...</td>\n",
       "      <td>stations</td>\n",
       "      <td>{'temp': 85.35, 'feels_like': 92.35, 'temp_min...</td>\n",
       "      <td>10000.0</td>\n",
       "      <td>{'speed': 2.75, 'deg': 165}</td>\n",
       "      <td>{'all': 53}</td>\n",
       "      <td>1.603771e+09</td>\n",
       "      <td>{'country': 'ID', 'sunrise': 1603754376, 'suns...</td>\n",
       "      <td>25200.0</td>\n",
       "      <td>1214488.0</td>\n",
       "      <td>Meulaboh</td>\n",
       "      <td>200</td>\n",
       "      <td>NaN</td>\n",
       "      <td>NaN</td>\n",
       "    </tr>\n",
       "    <tr>\n",
       "      <th>165</th>\n",
       "      <td>{'lon': -70.92, 'lat': -53.15}</td>\n",
       "      <td>[{'id': 801, 'main': 'Clouds', 'description': ...</td>\n",
       "      <td>stations</td>\n",
       "      <td>{'temp': 41, 'feels_like': 25.7, 'temp_min': 4...</td>\n",
       "      <td>10000.0</td>\n",
       "      <td>{'speed': 20.8, 'deg': 310}</td>\n",
       "      <td>{'all': 20}</td>\n",
       "      <td>1.603771e+09</td>\n",
       "      <td>{'type': 1, 'id': 8487, 'country': 'CL', 'sunr...</td>\n",
       "      <td>-10800.0</td>\n",
       "      <td>3874787.0</td>\n",
       "      <td>Punta Arenas</td>\n",
       "      <td>200</td>\n",
       "      <td>NaN</td>\n",
       "      <td>NaN</td>\n",
       "    </tr>\n",
       "    <tr>\n",
       "      <th>166</th>\n",
       "      <td>{'lon': 37.84, 'lat': 57.24}</td>\n",
       "      <td>[{'id': 804, 'main': 'Clouds', 'description': ...</td>\n",
       "      <td>stations</td>\n",
       "      <td>{'temp': 41.47, 'feels_like': 32.81, 'temp_min...</td>\n",
       "      <td>10000.0</td>\n",
       "      <td>{'speed': 10.65, 'deg': 175}</td>\n",
       "      <td>{'all': 98}</td>\n",
       "      <td>1.603771e+09</td>\n",
       "      <td>{'country': 'RU', 'sunrise': 1603772943, 'suns...</td>\n",
       "      <td>10800.0</td>\n",
       "      <td>553884.0</td>\n",
       "      <td>Kalyazin</td>\n",
       "      <td>200</td>\n",
       "      <td>NaN</td>\n",
       "      <td>NaN</td>\n",
       "    </tr>\n",
       "    <tr>\n",
       "      <th>167</th>\n",
       "      <td>{'lon': 18.42, 'lat': -33.93}</td>\n",
       "      <td>[{'id': 801, 'main': 'Clouds', 'description': ...</td>\n",
       "      <td>stations</td>\n",
       "      <td>{'temp': 58.75, 'feels_like': 56.34, 'temp_min...</td>\n",
       "      <td>10000.0</td>\n",
       "      <td>{'speed': 8.05, 'deg': 330}</td>\n",
       "      <td>{'all': 20}</td>\n",
       "      <td>1.603770e+09</td>\n",
       "      <td>{'type': 1, 'id': 1899, 'country': 'ZA', 'sunr...</td>\n",
       "      <td>7200.0</td>\n",
       "      <td>3369157.0</td>\n",
       "      <td>Cape Town</td>\n",
       "      <td>200</td>\n",
       "      <td>NaN</td>\n",
       "      <td>NaN</td>\n",
       "    </tr>\n",
       "  </tbody>\n",
       "</table>\n",
       "<p>147 rows × 15 columns</p>\n",
       "</div>"
      ],
      "text/plain": [
       "                               coord  \\\n",
       "0      {'lon': 18.42, 'lat': -33.93}   \n",
       "1    {'lon': -134.97, 'lat': -23.12}   \n",
       "2      {'lon': 17.94, 'lat': -33.01}   \n",
       "3      {'lon': -5.72, 'lat': -15.94}   \n",
       "4       {'lon': 81.77, 'lat': 51.95}   \n",
       "..                               ...   \n",
       "160     {'lon': 172.79, 'lat': 3.07}   \n",
       "162      {'lon': 96.13, 'lat': 4.14}   \n",
       "165   {'lon': -70.92, 'lat': -53.15}   \n",
       "166     {'lon': 37.84, 'lat': 57.24}   \n",
       "167    {'lon': 18.42, 'lat': -33.93}   \n",
       "\n",
       "                                               weather      base  \\\n",
       "0    [{'id': 801, 'main': 'Clouds', 'description': ...  stations   \n",
       "1    [{'id': 500, 'main': 'Rain', 'description': 'l...  stations   \n",
       "2    [{'id': 802, 'main': 'Clouds', 'description': ...  stations   \n",
       "3    [{'id': 804, 'main': 'Clouds', 'description': ...  stations   \n",
       "4    [{'id': 803, 'main': 'Clouds', 'description': ...  stations   \n",
       "..                                                 ...       ...   \n",
       "160  [{'id': 800, 'main': 'Clear', 'description': '...  stations   \n",
       "162  [{'id': 803, 'main': 'Clouds', 'description': ...  stations   \n",
       "165  [{'id': 801, 'main': 'Clouds', 'description': ...  stations   \n",
       "166  [{'id': 804, 'main': 'Clouds', 'description': ...  stations   \n",
       "167  [{'id': 801, 'main': 'Clouds', 'description': ...  stations   \n",
       "\n",
       "                                                  main  visibility  \\\n",
       "0    {'temp': 58.75, 'feels_like': 56.34, 'temp_min...     10000.0   \n",
       "1    {'temp': 75.54, 'feels_like': 75.22, 'temp_min...     10000.0   \n",
       "2    {'temp': 59, 'feels_like': 56.7, 'temp_min': 5...      9975.0   \n",
       "3    {'temp': 61.03, 'feels_like': 54.09, 'temp_min...     10000.0   \n",
       "4    {'temp': 50.34, 'feels_like': 31.46, 'temp_min...     10000.0   \n",
       "..                                                 ...         ...   \n",
       "160  {'temp': 81.7, 'feels_like': 84.18, 'temp_min'...     10000.0   \n",
       "162  {'temp': 85.35, 'feels_like': 92.35, 'temp_min...     10000.0   \n",
       "165  {'temp': 41, 'feels_like': 25.7, 'temp_min': 4...     10000.0   \n",
       "166  {'temp': 41.47, 'feels_like': 32.81, 'temp_min...     10000.0   \n",
       "167  {'temp': 58.75, 'feels_like': 56.34, 'temp_min...     10000.0   \n",
       "\n",
       "                             wind        clouds            dt  \\\n",
       "0     {'speed': 8.05, 'deg': 330}   {'all': 20}  1.603770e+09   \n",
       "1    {'speed': 15.08, 'deg': 352}  {'all': 100}  1.603771e+09   \n",
       "2     {'speed': 6.93, 'deg': 350}   {'all': 29}  1.603771e+09   \n",
       "3    {'speed': 18.25, 'deg': 127}   {'all': 97}  1.603771e+09   \n",
       "4    {'speed': 26.51, 'deg': 196}   {'all': 76}  1.603771e+09   \n",
       "..                            ...           ...           ...   \n",
       "160   {'speed': 8.05, 'deg': 120}    {'all': 6}  1.603771e+09   \n",
       "162   {'speed': 2.75, 'deg': 165}   {'all': 53}  1.603771e+09   \n",
       "165   {'speed': 20.8, 'deg': 310}   {'all': 20}  1.603771e+09   \n",
       "166  {'speed': 10.65, 'deg': 175}   {'all': 98}  1.603771e+09   \n",
       "167   {'speed': 8.05, 'deg': 330}   {'all': 20}  1.603770e+09   \n",
       "\n",
       "                                                   sys  timezone         id  \\\n",
       "0    {'type': 1, 'id': 1899, 'country': 'ZA', 'sunr...    7200.0  3369157.0   \n",
       "1    {'country': 'PF', 'sunrise': 1603721868, 'suns...  -32400.0  4030556.0   \n",
       "2    {'type': 1, 'id': 1943, 'country': 'ZA', 'sunr...    7200.0  3361934.0   \n",
       "3    {'country': 'SH', 'sunrise': 1603777680, 'suns...       0.0  3370903.0   \n",
       "4    {'country': 'RU', 'sunrise': 1603761523, 'suns...   25200.0  1494331.0   \n",
       "..                                                 ...       ...        ...   \n",
       "160  {'country': 'KI', 'sunrise': 1603735919, 'suns...   43200.0  2110227.0   \n",
       "162  {'country': 'ID', 'sunrise': 1603754376, 'suns...   25200.0  1214488.0   \n",
       "165  {'type': 1, 'id': 8487, 'country': 'CL', 'sunr...  -10800.0  3874787.0   \n",
       "166  {'country': 'RU', 'sunrise': 1603772943, 'suns...   10800.0   553884.0   \n",
       "167  {'type': 1, 'id': 1899, 'country': 'ZA', 'sunr...    7200.0  3369157.0   \n",
       "\n",
       "             name  cod          rain message  \n",
       "0       Cape Town  200           NaN     NaN  \n",
       "1         Rikitea  200  {'1h': 0.18}     NaN  \n",
       "2        Saldanha  200           NaN     NaN  \n",
       "3       Jamestown  200           NaN     NaN  \n",
       "4      Pospelikha  200           NaN     NaN  \n",
       "..            ...  ...           ...     ...  \n",
       "160    Butaritari  200           NaN     NaN  \n",
       "162      Meulaboh  200           NaN     NaN  \n",
       "165  Punta Arenas  200           NaN     NaN  \n",
       "166      Kalyazin  200           NaN     NaN  \n",
       "167     Cape Town  200           NaN     NaN  \n",
       "\n",
       "[147 rows x 15 columns]"
      ]
     },
     "execution_count": 17,
     "metadata": {},
     "output_type": "execute_result"
    }
   ],
   "source": [
    "response_df = response_df.dropna(thresh = 3)\n",
    "response_df"
   ]
  },
  {
   "cell_type": "markdown",
   "metadata": {},
   "source": [
    "# Convert Raw Data to DataFrame¶¶\n",
    "Export the city data into a .csv. Display the DataFrame"
   ]
  },
  {
   "cell_type": "code",
   "execution_count": 36,
   "metadata": {},
   "outputs": [
    {
     "data": {
      "text/html": [
       "<div>\n",
       "<style scoped>\n",
       "    .dataframe tbody tr th:only-of-type {\n",
       "        vertical-align: middle;\n",
       "    }\n",
       "\n",
       "    .dataframe tbody tr th {\n",
       "        vertical-align: top;\n",
       "    }\n",
       "\n",
       "    .dataframe thead th {\n",
       "        text-align: right;\n",
       "    }\n",
       "</style>\n",
       "<table border=\"1\" class=\"dataframe\">\n",
       "  <thead>\n",
       "    <tr style=\"text-align: right;\">\n",
       "      <th></th>\n",
       "      <th>City</th>\n",
       "      <th>Clouds</th>\n",
       "      <th>Country</th>\n",
       "      <th>Date</th>\n",
       "      <th>Humidity</th>\n",
       "      <th>Lat</th>\n",
       "      <th>Lng</th>\n",
       "      <th>Max Temp</th>\n",
       "      <th>Wind_Speed</th>\n",
       "    </tr>\n",
       "  </thead>\n",
       "  <tbody>\n",
       "    <tr>\n",
       "      <th>0</th>\n",
       "      <td>Cape Town</td>\n",
       "      <td>20</td>\n",
       "      <td>ZA</td>\n",
       "      <td>1603770468</td>\n",
       "      <td>93</td>\n",
       "      <td>-33.93</td>\n",
       "      <td>18.42</td>\n",
       "      <td>61.00</td>\n",
       "      <td>8.05</td>\n",
       "    </tr>\n",
       "    <tr>\n",
       "      <th>1</th>\n",
       "      <td>Rikitea</td>\n",
       "      <td>100</td>\n",
       "      <td>PF</td>\n",
       "      <td>1603770757</td>\n",
       "      <td>86</td>\n",
       "      <td>-23.12</td>\n",
       "      <td>-134.97</td>\n",
       "      <td>75.54</td>\n",
       "      <td>15.08</td>\n",
       "    </tr>\n",
       "    <tr>\n",
       "      <th>2</th>\n",
       "      <td>Saldanha</td>\n",
       "      <td>29</td>\n",
       "      <td>ZA</td>\n",
       "      <td>1603770758</td>\n",
       "      <td>87</td>\n",
       "      <td>-33.01</td>\n",
       "      <td>17.94</td>\n",
       "      <td>59.00</td>\n",
       "      <td>6.93</td>\n",
       "    </tr>\n",
       "    <tr>\n",
       "      <th>3</th>\n",
       "      <td>Jamestown</td>\n",
       "      <td>97</td>\n",
       "      <td>SH</td>\n",
       "      <td>1603770759</td>\n",
       "      <td>97</td>\n",
       "      <td>-15.94</td>\n",
       "      <td>-5.72</td>\n",
       "      <td>61.03</td>\n",
       "      <td>18.25</td>\n",
       "    </tr>\n",
       "    <tr>\n",
       "      <th>4</th>\n",
       "      <td>Pospelikha</td>\n",
       "      <td>76</td>\n",
       "      <td>RU</td>\n",
       "      <td>1603770760</td>\n",
       "      <td>44</td>\n",
       "      <td>51.95</td>\n",
       "      <td>81.77</td>\n",
       "      <td>50.34</td>\n",
       "      <td>26.51</td>\n",
       "    </tr>\n",
       "  </tbody>\n",
       "</table>\n",
       "</div>"
      ],
      "text/plain": [
       "         City  Clouds Country        Date  Humidity    Lat     Lng  Max Temp  \\\n",
       "0   Cape Town      20      ZA  1603770468        93 -33.93   18.42     61.00   \n",
       "1     Rikitea     100      PF  1603770757        86 -23.12 -134.97     75.54   \n",
       "2    Saldanha      29      ZA  1603770758        87 -33.01   17.94     59.00   \n",
       "3   Jamestown      97      SH  1603770759        97 -15.94   -5.72     61.03   \n",
       "4  Pospelikha      76      RU  1603770760        44  51.95   81.77     50.34   \n",
       "\n",
       "   Wind_Speed  \n",
       "0        8.05  \n",
       "1       15.08  \n",
       "2        6.93  \n",
       "3       18.25  \n",
       "4       26.51  "
      ]
     },
     "execution_count": 36,
     "metadata": {},
     "output_type": "execute_result"
    }
   ],
   "source": [
    "#creates a new list that removes the errors from the response_data list\n",
    "clean_rd = [s for s in response_data if s['cod']!='404' ]\n",
    "\n",
    "#builds the lists of data using the clean_rd \n",
    "temp_data = [response['main']['temp'] for response in clean_rd]\n",
    "loc_data = [response['name'] for response in clean_rd]\n",
    "humid_data = [response['main']['humidity'] for response in clean_rd]\n",
    "cloud_data = [response['clouds']['all'] for response in clean_rd]\n",
    "wind_data = [response['wind']['speed'] for response in clean_rd]\n",
    "country_data = [response['sys']['country'] for response in clean_rd]\n",
    "date_data = [response['dt'] for response in clean_rd]\n",
    "lat_data = [response['coord']['lat'] for response in clean_rd]\n",
    "lon_data = [response['coord']['lon'] for response in clean_rd]\n",
    "max_temp_data = [response['main']['temp_max'] for response in clean_rd]\n",
    "#print(loc_data)\n",
    "#print(clean_rd[0])\n",
    "\n",
    "#fills the selected data into the weatherdata_df dataframe\n",
    "weatherdata_df['Wind_Speed']=wind_data\n",
    "weatherdata_df['Clouds']=cloud_data\n",
    "weatherdata_df['Humidity']=humid_data\n",
    "weatherdata_df['Temp']=temp_data\n",
    "weatherdata_df['City']=loc_data\n",
    "weatherdata_df['Country'] = country_data\n",
    "weatherdata_df['Date'] = date_data\n",
    "weatherdata_df['Lat'] = lat_data\n",
    "weatherdata_df['Lng'] = lon_data\n",
    "weatherdata_df['Max Temp'] = max_temp_data\n",
    "\n",
    "#reorders the dataframe to match the example\n",
    "weatherdata_df = weatherdata_df[['City','Clouds','Country','Date','Humidity','Lat','Lng','Max Temp','Wind_Speed']]\n",
    "weatherdata_df.head()"
   ]
  },
  {
   "cell_type": "code",
   "execution_count": 19,
   "metadata": {},
   "outputs": [
    {
     "data": {
      "text/html": [
       "<div>\n",
       "<style scoped>\n",
       "    .dataframe tbody tr th:only-of-type {\n",
       "        vertical-align: middle;\n",
       "    }\n",
       "\n",
       "    .dataframe tbody tr th {\n",
       "        vertical-align: top;\n",
       "    }\n",
       "\n",
       "    .dataframe thead th {\n",
       "        text-align: right;\n",
       "    }\n",
       "</style>\n",
       "<table border=\"1\" class=\"dataframe\">\n",
       "  <thead>\n",
       "    <tr style=\"text-align: right;\">\n",
       "      <th></th>\n",
       "      <th>coord</th>\n",
       "      <th>weather</th>\n",
       "      <th>base</th>\n",
       "      <th>main</th>\n",
       "      <th>visibility</th>\n",
       "      <th>wind</th>\n",
       "      <th>clouds</th>\n",
       "      <th>dt</th>\n",
       "      <th>sys</th>\n",
       "      <th>timezone</th>\n",
       "      <th>id</th>\n",
       "      <th>name</th>\n",
       "      <th>cod</th>\n",
       "      <th>rain</th>\n",
       "    </tr>\n",
       "  </thead>\n",
       "  <tbody>\n",
       "    <tr>\n",
       "      <th>0</th>\n",
       "      <td>{'lon': 18.42, 'lat': -33.93}</td>\n",
       "      <td>[{'id': 801, 'main': 'Clouds', 'description': ...</td>\n",
       "      <td>stations</td>\n",
       "      <td>{'temp': 58.75, 'feels_like': 56.34, 'temp_min...</td>\n",
       "      <td>10000</td>\n",
       "      <td>{'speed': 8.05, 'deg': 330}</td>\n",
       "      <td>{'all': 20}</td>\n",
       "      <td>1603770468</td>\n",
       "      <td>{'type': 1, 'id': 1899, 'country': 'ZA', 'sunr...</td>\n",
       "      <td>7200</td>\n",
       "      <td>3369157</td>\n",
       "      <td>Cape Town</td>\n",
       "      <td>200</td>\n",
       "      <td>NaN</td>\n",
       "    </tr>\n",
       "    <tr>\n",
       "      <th>1</th>\n",
       "      <td>{'lon': -134.97, 'lat': -23.12}</td>\n",
       "      <td>[{'id': 500, 'main': 'Rain', 'description': 'l...</td>\n",
       "      <td>stations</td>\n",
       "      <td>{'temp': 75.54, 'feels_like': 75.22, 'temp_min...</td>\n",
       "      <td>10000</td>\n",
       "      <td>{'speed': 15.08, 'deg': 352}</td>\n",
       "      <td>{'all': 100}</td>\n",
       "      <td>1603770757</td>\n",
       "      <td>{'country': 'PF', 'sunrise': 1603721868, 'suns...</td>\n",
       "      <td>-32400</td>\n",
       "      <td>4030556</td>\n",
       "      <td>Rikitea</td>\n",
       "      <td>200</td>\n",
       "      <td>{'1h': 0.18}</td>\n",
       "    </tr>\n",
       "    <tr>\n",
       "      <th>2</th>\n",
       "      <td>{'lon': 17.94, 'lat': -33.01}</td>\n",
       "      <td>[{'id': 802, 'main': 'Clouds', 'description': ...</td>\n",
       "      <td>stations</td>\n",
       "      <td>{'temp': 59, 'feels_like': 56.7, 'temp_min': 5...</td>\n",
       "      <td>9975</td>\n",
       "      <td>{'speed': 6.93, 'deg': 350}</td>\n",
       "      <td>{'all': 29}</td>\n",
       "      <td>1603770758</td>\n",
       "      <td>{'type': 1, 'id': 1943, 'country': 'ZA', 'sunr...</td>\n",
       "      <td>7200</td>\n",
       "      <td>3361934</td>\n",
       "      <td>Saldanha</td>\n",
       "      <td>200</td>\n",
       "      <td>NaN</td>\n",
       "    </tr>\n",
       "    <tr>\n",
       "      <th>3</th>\n",
       "      <td>{'lon': -5.72, 'lat': -15.94}</td>\n",
       "      <td>[{'id': 804, 'main': 'Clouds', 'description': ...</td>\n",
       "      <td>stations</td>\n",
       "      <td>{'temp': 61.03, 'feels_like': 54.09, 'temp_min...</td>\n",
       "      <td>10000</td>\n",
       "      <td>{'speed': 18.25, 'deg': 127}</td>\n",
       "      <td>{'all': 97}</td>\n",
       "      <td>1603770759</td>\n",
       "      <td>{'country': 'SH', 'sunrise': 1603777680, 'suns...</td>\n",
       "      <td>0</td>\n",
       "      <td>3370903</td>\n",
       "      <td>Jamestown</td>\n",
       "      <td>200</td>\n",
       "      <td>NaN</td>\n",
       "    </tr>\n",
       "    <tr>\n",
       "      <th>4</th>\n",
       "      <td>{'lon': 81.77, 'lat': 51.95}</td>\n",
       "      <td>[{'id': 803, 'main': 'Clouds', 'description': ...</td>\n",
       "      <td>stations</td>\n",
       "      <td>{'temp': 50.34, 'feels_like': 31.46, 'temp_min...</td>\n",
       "      <td>10000</td>\n",
       "      <td>{'speed': 26.51, 'deg': 196}</td>\n",
       "      <td>{'all': 76}</td>\n",
       "      <td>1603770760</td>\n",
       "      <td>{'country': 'RU', 'sunrise': 1603761523, 'suns...</td>\n",
       "      <td>25200</td>\n",
       "      <td>1494331</td>\n",
       "      <td>Pospelikha</td>\n",
       "      <td>200</td>\n",
       "      <td>NaN</td>\n",
       "    </tr>\n",
       "  </tbody>\n",
       "</table>\n",
       "</div>"
      ],
      "text/plain": [
       "                             coord  \\\n",
       "0    {'lon': 18.42, 'lat': -33.93}   \n",
       "1  {'lon': -134.97, 'lat': -23.12}   \n",
       "2    {'lon': 17.94, 'lat': -33.01}   \n",
       "3    {'lon': -5.72, 'lat': -15.94}   \n",
       "4     {'lon': 81.77, 'lat': 51.95}   \n",
       "\n",
       "                                             weather      base  \\\n",
       "0  [{'id': 801, 'main': 'Clouds', 'description': ...  stations   \n",
       "1  [{'id': 500, 'main': 'Rain', 'description': 'l...  stations   \n",
       "2  [{'id': 802, 'main': 'Clouds', 'description': ...  stations   \n",
       "3  [{'id': 804, 'main': 'Clouds', 'description': ...  stations   \n",
       "4  [{'id': 803, 'main': 'Clouds', 'description': ...  stations   \n",
       "\n",
       "                                                main  visibility  \\\n",
       "0  {'temp': 58.75, 'feels_like': 56.34, 'temp_min...       10000   \n",
       "1  {'temp': 75.54, 'feels_like': 75.22, 'temp_min...       10000   \n",
       "2  {'temp': 59, 'feels_like': 56.7, 'temp_min': 5...        9975   \n",
       "3  {'temp': 61.03, 'feels_like': 54.09, 'temp_min...       10000   \n",
       "4  {'temp': 50.34, 'feels_like': 31.46, 'temp_min...       10000   \n",
       "\n",
       "                           wind        clouds          dt  \\\n",
       "0   {'speed': 8.05, 'deg': 330}   {'all': 20}  1603770468   \n",
       "1  {'speed': 15.08, 'deg': 352}  {'all': 100}  1603770757   \n",
       "2   {'speed': 6.93, 'deg': 350}   {'all': 29}  1603770758   \n",
       "3  {'speed': 18.25, 'deg': 127}   {'all': 97}  1603770759   \n",
       "4  {'speed': 26.51, 'deg': 196}   {'all': 76}  1603770760   \n",
       "\n",
       "                                                 sys  timezone       id  \\\n",
       "0  {'type': 1, 'id': 1899, 'country': 'ZA', 'sunr...      7200  3369157   \n",
       "1  {'country': 'PF', 'sunrise': 1603721868, 'suns...    -32400  4030556   \n",
       "2  {'type': 1, 'id': 1943, 'country': 'ZA', 'sunr...      7200  3361934   \n",
       "3  {'country': 'SH', 'sunrise': 1603777680, 'suns...         0  3370903   \n",
       "4  {'country': 'RU', 'sunrise': 1603761523, 'suns...     25200  1494331   \n",
       "\n",
       "         name  cod          rain  \n",
       "0   Cape Town  200           NaN  \n",
       "1     Rikitea  200  {'1h': 0.18}  \n",
       "2    Saldanha  200           NaN  \n",
       "3   Jamestown  200           NaN  \n",
       "4  Pospelikha  200           NaN  "
      ]
     },
     "execution_count": 19,
     "metadata": {},
     "output_type": "execute_result"
    }
   ],
   "source": [
    "clean_df = pd.DataFrame(clean_rd)\n",
    "clean_df.head()"
   ]
  },
  {
   "cell_type": "code",
   "execution_count": 44,
   "metadata": {},
   "outputs": [],
   "source": [
    "#creates dataframes for each plot for the sake of clean data management\n",
    "temps_df = pd.DataFrame(columns = ['Temps','Lats'])\n",
    "humid_df = pd.DataFrame(columns = ['Humidity','Lats'])\n",
    "cloud_df = pd.DataFrame(columns = ['Cloudiness','Lats'])\n",
    "wind_df = pd.DataFrame(columns = ['Wind_Speed','Lats'])\n",
    "\n",
    "lat_data = [response['coord']['lat'] for response in clean_rd]\n",
    "\n",
    "#fills in the latitude data values\n",
    "wind_df['Lats'] = lat_data\n",
    "cloud_df['Lats'] = lat_data\n",
    "humid_df['Lats'] = lat_data\n",
    "temps_df['Lats'] = lat_data\n",
    "\n",
    "#fills in the requested value for each \n",
    "wind_df['Wind_Speed'] = weatherdata_df['Wind_Speed']\n",
    "cloud_df['Cloudiness'] = weatherdata_df['Clouds']\n",
    "humid_df['Humidity'] = weatherdata_df['Humidity']\n",
    "temps_df['Temps'] = weatherdata_df['Max Temp']"
   ]
  },
  {
   "cell_type": "markdown",
   "metadata": {},
   "source": [
    "# Latitude vs. Temperature Plot¶"
   ]
  },
  {
   "cell_type": "code",
   "execution_count": 21,
   "metadata": {},
   "outputs": [
    {
     "data": {
      "image/png": "[encoded data removed]",
      "text/plain": [
       "<Figure size 432x288 with 1 Axes>"
      ]
     },
     "metadata": {},
     "output_type": "display_data"
    }
   ],
   "source": [
    "#creates and styles the temperature vs latitude plot\n",
    "\n",
    "temp_plot = plt.scatter(temps_df['Lats'],temps_df['Temps'])\n",
    "plt.title('City Latitude vs Max Temperature (10/9/20)')\n",
    "plt.style.use('seaborn-dark')\n",
    "plt.ylabel('Max Temperature (F)')\n",
    "plt.xlabel('Latitude')\n",
    "plt.grid()\n",
    "plt.savefig('Lat_Temp.png')\n",
    "plt.show()"
   ]
  },
  {
   "cell_type": "markdown",
   "metadata": {},
   "source": [
    "# Latitude vs. Humidity Plot"
   ]
  },
  {
   "cell_type": "code",
   "execution_count": 36,
   "metadata": {},
   "outputs": [
    {
     "data": {
      "image/png": "[encoded data removed]",
      "text/plain": [
       "<Figure size 432x288 with 1 Axes>"
      ]
     },
     "metadata": {},
     "output_type": "display_data"
    }
   ],
   "source": [
    "#creates and styles the humidity vs latitude plot\n",
    "\n",
    "humid_plot = plt.scatter(humid_df['Lats'],humid_df['Humidity'])\n",
    "plt.title('City Latitude vs Humidity (10/9/20)')\n",
    "plt.style.use('seaborn-dark')\n",
    "plt.xlim(-80,100)\n",
    "plt.ylim(-20,120)\n",
    "plt.ylabel('Humidity (%)')\n",
    "plt.xlabel('Latitude')\n",
    "plt.grid()\n",
    "plt.savefig('Lat_Humid.png')\n",
    "plt.show()"
   ]
  },
  {
   "cell_type": "markdown",
   "metadata": {},
   "source": [
    "# Latitude vs. Cloudiness Plot"
   ]
  },
  {
   "cell_type": "code",
   "execution_count": 37,
   "metadata": {},
   "outputs": [
    {
     "data": {
      "image/png": "[encoded data removed]",
      "text/plain": [
       "<Figure size 432x288 with 1 Axes>"
      ]
     },
     "metadata": {},
     "output_type": "display_data"
    }
   ],
   "source": [
    "#creates and styles the cloudiness vs latitude plot\n",
    "\n",
    "cloud_plot = plt.scatter(cloud_df['Lats'],cloud_df['Cloudiness'])\n",
    "plt.title('City Latitude vs Cloudiness (10/9/20)')\n",
    "plt.style.use('seaborn-dark')\n",
    "plt.xlim(-80,100)\n",
    "plt.ylim(-20,120)\n",
    "plt.ylabel('Cloudiness (%)')\n",
    "plt.xlabel('Latitude')\n",
    "plt.grid()\n",
    "plt.savefig('Lat_Cloud.png')\n",
    "plt.show()"
   ]
  },
  {
   "cell_type": "markdown",
   "metadata": {},
   "source": [
    "# Latitude vs. Wind Speed Plot"
   ]
  },
  {
   "cell_type": "code",
   "execution_count": 38,
   "metadata": {},
   "outputs": [
    {
     "data": {
      "image/png": "[encoded data removed]",
      "text/plain": [
       "<Figure size 432x288 with 1 Axes>"
      ]
     },
     "metadata": {},
     "output_type": "display_data"
    }
   ],
   "source": [
    "#creates and styles the wind speed vs latitude plot\n",
    "\n",
    "wind_plot = plt.scatter(wind_df['Lats'],wind_df['Wind_Speed'])\n",
    "plt.title('City Latitude vs Wind Speed (10/9/20)')\n",
    "plt.style.use('seaborn-dark')\n",
    "plt.xlim(-80,100)\n",
    "plt.ylim(-5,40)\n",
    "plt.ylabel('Wind Speed (mph)')\n",
    "plt.xlabel('Latitude')\n",
    "plt.grid()\n",
    "plt.savefig('Lat_Wind.png')\n",
    "plt.show()"
   ]
  },
  {
   "cell_type": "markdown",
   "metadata": {},
   "source": [
    "# Linear Regression¶¶¶"
   ]
  },
  {
   "cell_type": "code",
   "execution_count": 45,
   "metadata": {},
   "outputs": [],
   "source": [
    "#Create a function to create Linear Regression plots\n",
    "\n",
    "def linear_regression(x, y, xlabel, ylabel, title):\n",
    "    slope, intercept, r_value, p_value, std_err = sp.linregress(x,y)\n",
    "    line = slope*x+intercept\n",
    "    plt.scatter(x, y)\n",
    "    plt.xlabel(xlabel)\n",
    "    plt.ylabel(ylabel)\n",
    "    plt.title(title)\n",
    "    plt.plot(x,line,\"-\", color='r',linewidth=3)\n",
    "    #plt.annotate(line,(x,y),fontsize=15,color=\"red\")\n",
    "    \n",
    "    if slope < 0:\n",
    "        print(f\"R-Squared Value: -{r_value**2}\")\n",
    "    else:\n",
    "        print(f\"R-Squared Value: {r_value**2}\")"
   ]
  },
  {
   "cell_type": "code",
   "execution_count": 46,
   "metadata": {},
   "outputs": [],
   "source": [
    "# Create Northern and Southern Hemisphere DataFrames\n",
    "\n",
    "northern_df = weatherdata_df.loc[weatherdata_df['Lat']>0]\n",
    "southern_df = weatherdata_df.loc[weatherdata_df['Lat']<0]"
   ]
  },
  {
   "cell_type": "markdown",
   "metadata": {},
   "source": [
    "# Northern Hemisphere - Max Temp vs. Latitude Linear Regression¶¶"
   ]
  },
  {
   "cell_type": "code",
   "execution_count": 47,
   "metadata": {},
   "outputs": [
    {
     "name": "stdout",
     "output_type": "stream",
     "text": [
      "R-Squared Value: -0.8462913357857402\n"
     ]
    },
    {
     "data": {
      "image/png": "[encoded data removed]",
      "text/plain": [
       "<Figure size 432x288 with 1 Axes>"
      ]
     },
     "metadata": {},
     "output_type": "display_data"
    }
   ],
   "source": [
    "# Northern Hemisphere - Max Temp vs. Latitude Linear Regression \n",
    "linear_regression(northern_df['Lat'],northern_df['Max Temp'],\"Lat\",\"Max Temp\", \"Northern Hemisphere Latitudes vs Max Temp (f)\")"
   ]
  },
  {
   "cell_type": "markdown",
   "metadata": {},
   "source": [
    "# Southern Hemisphere - Max Temp vs. Latitude Linear Regression¶"
   ]
  },
  {
   "cell_type": "code",
   "execution_count": 48,
   "metadata": {},
   "outputs": [
    {
     "name": "stdout",
     "output_type": "stream",
     "text": [
      "R-Squared Value: 0.6229008142555034\n"
     ]
    },
    {
     "data": {
      "image/png": "[encoded data removed]",
      "text/plain": [
       "<Figure size 432x288 with 1 Axes>"
      ]
     },
     "metadata": {},
     "output_type": "display_data"
    }
   ],
   "source": [
    "#Southern Hemisphere - Max Temp vs. Latitude Linear Regression\n",
    "linear_regression(southern_df['Lat'],southern_df['Max Temp'],\"Latitude\",\"Max Temp (f)\", \"Southern Hemisphere Latitudes vs Max Temp (f)\")"
   ]
  },
  {
   "cell_type": "markdown",
   "metadata": {},
   "source": [
    "# Northern Hemisphere - Humidity (%) vs. Latitude Linear Regression¶"
   ]
  },
  {
   "cell_type": "code",
   "execution_count": 49,
   "metadata": {},
   "outputs": [
    {
     "name": "stdout",
     "output_type": "stream",
     "text": [
      "R-Squared Value: 0.06349921462399312\n"
     ]
    },
    {
     "data": {
      "image/png": "[encoded data removed]",
      "text/plain": [
       "<Figure size 432x288 with 1 Axes>"
      ]
     },
     "metadata": {},
     "output_type": "display_data"
    }
   ],
   "source": [
    "#Northern Hemisphere - Humidity (%) vs. Latitude Linear Regression\n",
    "linear_regression(northern_df['Lat'],northern_df['Humidity'],\"Latitude\",\"Humidity (%)\", \"Northern Hemisphere Latitudes vs Humidity %\")"
   ]
  },
  {
   "cell_type": "markdown",
   "metadata": {},
   "source": [
    "# Southern Hemisphere - Humidity (%) vs. Latitude Linear Regression¶"
   ]
  },
  {
   "cell_type": "code",
   "execution_count": 53,
   "metadata": {},
   "outputs": [
    {
     "name": "stdout",
     "output_type": "stream",
     "text": [
      "R-Squared Value: 0.2045604791569123\n"
     ]
    },
    {
     "data": {
      "image/png": "[encoded data removed]",
      "text/plain": [
       "<Figure size 432x288 with 1 Axes>"
      ]
     },
     "metadata": {},
     "output_type": "display_data"
    }
   ],
   "source": [
    "#Southern Hemisphere - Humidity (%) vs. Latitude Linear Regression\n",
    "linear_regression(southern_df['Lat'],southern_df['Humidity'],\"Latitude\",\"Humidity (%)\", \"Southern Hemisphere Latitudes vs Humidity %\")"
   ]
  },
  {
   "cell_type": "markdown",
   "metadata": {},
   "source": [
    "# Northern Hemisphere - Cloudiness (%) vs. Latitude Linear Regression"
   ]
  },
  {
   "cell_type": "code",
   "execution_count": 54,
   "metadata": {},
   "outputs": [
    {
     "name": "stdout",
     "output_type": "stream",
     "text": [
      "R-Squared Value: 0.03610276866640308\n"
     ]
    },
    {
     "data": {
      "image/png": "[encoded data removed]",
      "text/plain": [
       "<Figure size 432x288 with 1 Axes>"
      ]
     },
     "metadata": {},
     "output_type": "display_data"
    }
   ],
   "source": [
    "#Northern Hemisphere - Cloudiness (%) vs. Latitude Linear Regression\n",
    "linear_regression(northern_df['Lat'],northern_df['Clouds'],\"Latitude\",\"Cloudiness (%)\", \"Northern Hemisphere Latitudes vs Cloudiness %)\")"
   ]
  },
  {
   "cell_type": "markdown",
   "metadata": {},
   "source": [
    "# Southern Hemisphere - Cloudiness (%) vs. Latitude Linear Regression¶¶"
   ]
  },
  {
   "cell_type": "code",
   "execution_count": 55,
   "metadata": {},
   "outputs": [
    {
     "name": "stdout",
     "output_type": "stream",
     "text": [
      "R-Squared Value: 0.06690486274988014\n"
     ]
    },
    {
     "data": {
      "image/png": "[encoded data removed]",
      "text/plain": [
       "<Figure size 432x288 with 1 Axes>"
      ]
     },
     "metadata": {},
     "output_type": "display_data"
    }
   ],
   "source": [
    "#Southern Hemisphere - Cloudiness (%) vs. Latitude Linear Regression\n",
    "linear_regression(southern_df['Lat'],southern_df['Clouds'],\"Lat\",\"Cloudiness (%)\", \"Southern Hemisphere Latitudes vs Cloudiness %)\")"
   ]
  },
  {
   "cell_type": "markdown",
   "metadata": {},
   "source": [
    "# Northern Hemisphere - Wind Speed (mph) vs. Latitude Linear Regression¶\n"
   ]
  },
  {
   "cell_type": "code",
   "execution_count": 72,
   "metadata": {},
   "outputs": [
    {
     "name": "stdout",
     "output_type": "stream",
     "text": [
      "R-Squared Value: 0.013550530892987203\n"
     ]
    },
    {
     "data": {
      "image/png": "[encoded data removed]",
      "text/plain": [
       "<Figure size 432x288 with 1 Axes>"
      ]
     },
     "metadata": {},
     "output_type": "display_data"
    }
   ],
   "source": [
    "# Northern Hemisphere - Wind Speed (mph) vs. Latitude Linear Regression\n",
    "linear_regression(northern_df['Lat'],northern_df['Wind_Speed'],\"Latitude\",\"Wind Speed (mph)\", \"Northern Hemisphere Latitudes vs. Wind Speed\")"
   ]
  },
  {
   "cell_type": "markdown",
   "metadata": {},
   "source": [
    "# Southern Hemisphere - Wind Speed (mph) vs. Latitude Linear Regression"
   ]
  },
  {
   "cell_type": "code",
   "execution_count": 56,
   "metadata": {},
   "outputs": [
    {
     "name": "stdout",
     "output_type": "stream",
     "text": [
      "R-Squared Value: -0.017829639684201103\n"
     ]
    },
    {
     "data": {
      "image/png": "[encoded data removed]",
      "text/plain": [
       "<Figure size 432x288 with 1 Axes>"
      ]
     },
     "metadata": {},
     "output_type": "display_data"
    }
   ],
   "source": [
    "#Southern Hemisphere - Wind Speed (mph) vs. Latitude Linear Regression\n",
    "linear_regression(southern_df['Lat'],southern_df['Wind_Speed'],\"Latitude\",\"Wind Speed (mph)\", \"Southern Hemisphere Latitudes vs Wind Speed\")"
   ]
  }
 ],
 "metadata": {
  "kernelspec": {
   "display_name": "Python 3",
   "language": "python",
   "name": "python3"
  },
  "language_info": {
   "codemirror_mode": {
    "name": "ipython",
    "version": 3
   },
   "file_extension": ".py",
   "mimetype": "text/x-python",
   "name": "python",
   "nbconvert_exporter": "python",
   "pygments_lexer": "ipython3",
   "version": "3.6.10"
  }
 },
 "nbformat": 4,
 "nbformat_minor": 4
}
